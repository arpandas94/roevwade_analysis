{
 "cells": [
  {
   "cell_type": "markdown",
   "id": "3ae2d5b8",
   "metadata": {},
   "source": [
    "# Word Vector of Tweets\n",
    "**Source:**<br>\n",
    "https://github.com/codebasics/deep-learning-keras-tf-tutorial/blob/master/42_word2vec_gensim/42_word2vec_gensim.ipynb | \n",
    "https://www.youtube.com/watch?v=Q2NtCcqmIww&ab_channel=codebasics<br>\n",
    "**visualization:**<br>\n",
    "https://towardsdatascience.com/visualizing-word-embedding-with-pca-and-t-sne-961a692509f5"
   ]
  },
  {
   "cell_type": "markdown",
   "id": "70a07bc8",
   "metadata": {},
   "source": [
    "## Text Preprocessing"
   ]
  },
  {
   "cell_type": "code",
   "execution_count": 1,
   "id": "2d762a76",
   "metadata": {},
   "outputs": [
    {
     "data": {
      "text/html": [
       "<div>\n",
       "<style scoped>\n",
       "    .dataframe tbody tr th:only-of-type {\n",
       "        vertical-align: middle;\n",
       "    }\n",
       "\n",
       "    .dataframe tbody tr th {\n",
       "        vertical-align: top;\n",
       "    }\n",
       "\n",
       "    .dataframe thead th {\n",
       "        text-align: right;\n",
       "    }\n",
       "</style>\n",
       "<table border=\"1\" class=\"dataframe\">\n",
       "  <thead>\n",
       "    <tr style=\"text-align: right;\">\n",
       "      <th></th>\n",
       "      <th>Unnamed: 0</th>\n",
       "      <th>Unnamed: 0.1</th>\n",
       "      <th>date</th>\n",
       "      <th>time</th>\n",
       "      <th>name</th>\n",
       "      <th>username</th>\n",
       "      <th>state</th>\n",
       "      <th>tweet</th>\n",
       "    </tr>\n",
       "  </thead>\n",
       "  <tbody>\n",
       "    <tr>\n",
       "      <th>0</th>\n",
       "      <td>0</td>\n",
       "      <td>0</td>\n",
       "      <td>2022-05-10</td>\n",
       "      <td>01:56:33</td>\n",
       "      <td>Nicholas Lamar Soutter</td>\n",
       "      <td>nicksoutter</td>\n",
       "      <td>Boston</td>\n",
       "      <td>@PaleBlueMomma Well, murdering 21 year old rea...</td>\n",
       "    </tr>\n",
       "    <tr>\n",
       "      <th>1</th>\n",
       "      <td>1</td>\n",
       "      <td>1</td>\n",
       "      <td>2022-05-10</td>\n",
       "      <td>01:44:44</td>\n",
       "      <td>mys. sylverfyre</td>\n",
       "      <td>sylverfyrevalk</td>\n",
       "      <td>Boston</td>\n",
       "      <td>@hbt_ft @jskilesskinner anti abortion ppl hara...</td>\n",
       "    </tr>\n",
       "    <tr>\n",
       "      <th>2</th>\n",
       "      <td>2</td>\n",
       "      <td>2</td>\n",
       "      <td>2022-05-10</td>\n",
       "      <td>01:39:21</td>\n",
       "      <td>✿ artsy black girl ✿</td>\n",
       "      <td>fairyflossfro</td>\n",
       "      <td>Boston</td>\n",
       "      <td>This analysis lazy best. Why wasting time disc...</td>\n",
       "    </tr>\n",
       "  </tbody>\n",
       "</table>\n",
       "</div>"
      ],
      "text/plain": [
       "   Unnamed: 0  Unnamed: 0.1        date      time                    name  \\\n",
       "0           0             0  2022-05-10  01:56:33  Nicholas Lamar Soutter   \n",
       "1           1             1  2022-05-10  01:44:44         mys. sylverfyre   \n",
       "2           2             2  2022-05-10  01:39:21    ✿ artsy black girl ✿   \n",
       "\n",
       "         username   state                                              tweet  \n",
       "0     nicksoutter  Boston  @PaleBlueMomma Well, murdering 21 year old rea...  \n",
       "1  sylverfyrevalk  Boston  @hbt_ft @jskilesskinner anti abortion ppl hara...  \n",
       "2   fairyflossfro  Boston  This analysis lazy best. Why wasting time disc...  "
      ]
     },
     "execution_count": 1,
     "metadata": {},
     "output_type": "execute_result"
    }
   ],
   "source": [
    "import pandas as pd\n",
    "import numpy as np\n",
    "\n",
    "df = pd.read_csv('roevwade_top10cities_900tweets_cleaned.csv')\n",
    "df.head(3)"
   ]
  },
  {
   "cell_type": "code",
   "execution_count": 2,
   "id": "983d46ba",
   "metadata": {},
   "outputs": [
    {
     "data": {
      "text/html": [
       "<div>\n",
       "<style scoped>\n",
       "    .dataframe tbody tr th:only-of-type {\n",
       "        vertical-align: middle;\n",
       "    }\n",
       "\n",
       "    .dataframe tbody tr th {\n",
       "        vertical-align: top;\n",
       "    }\n",
       "\n",
       "    .dataframe thead th {\n",
       "        text-align: right;\n",
       "    }\n",
       "</style>\n",
       "<table border=\"1\" class=\"dataframe\">\n",
       "  <thead>\n",
       "    <tr style=\"text-align: right;\">\n",
       "      <th></th>\n",
       "      <th>Unnamed: 0.1</th>\n",
       "      <th>date</th>\n",
       "      <th>time</th>\n",
       "      <th>name</th>\n",
       "      <th>username</th>\n",
       "      <th>state</th>\n",
       "      <th>tweet</th>\n",
       "    </tr>\n",
       "  </thead>\n",
       "  <tbody>\n",
       "    <tr>\n",
       "      <th>0</th>\n",
       "      <td>0</td>\n",
       "      <td>2022-05-10</td>\n",
       "      <td>01:56:33</td>\n",
       "      <td>Nicholas Lamar Soutter</td>\n",
       "      <td>nicksoutter</td>\n",
       "      <td>Boston</td>\n",
       "      <td>@PaleBlueMomma Well, murdering 21 year old rea...</td>\n",
       "    </tr>\n",
       "    <tr>\n",
       "      <th>1</th>\n",
       "      <td>1</td>\n",
       "      <td>2022-05-10</td>\n",
       "      <td>01:44:44</td>\n",
       "      <td>mys. sylverfyre</td>\n",
       "      <td>sylverfyrevalk</td>\n",
       "      <td>Boston</td>\n",
       "      <td>@hbt_ft @jskilesskinner anti abortion ppl hara...</td>\n",
       "    </tr>\n",
       "    <tr>\n",
       "      <th>2</th>\n",
       "      <td>2</td>\n",
       "      <td>2022-05-10</td>\n",
       "      <td>01:39:21</td>\n",
       "      <td>✿ artsy black girl ✿</td>\n",
       "      <td>fairyflossfro</td>\n",
       "      <td>Boston</td>\n",
       "      <td>This analysis lazy best. Why wasting time disc...</td>\n",
       "    </tr>\n",
       "    <tr>\n",
       "      <th>3</th>\n",
       "      <td>3</td>\n",
       "      <td>2022-05-10</td>\n",
       "      <td>01:10:12</td>\n",
       "      <td>Sue</td>\n",
       "      <td>sue21222633</td>\n",
       "      <td>Boston</td>\n",
       "      <td>@TomFitton Yes pass, I read it. It failed Febr...</td>\n",
       "    </tr>\n",
       "    <tr>\n",
       "      <th>4</th>\n",
       "      <td>4</td>\n",
       "      <td>2022-05-10</td>\n",
       "      <td>01:10:06</td>\n",
       "      <td>Lady Jasmine, HRH</td>\n",
       "      <td>hrh_ladyj</td>\n",
       "      <td>Boston</td>\n",
       "      <td>@PressSec @POTUS Noted, addendum, They NOT phy...</td>\n",
       "    </tr>\n",
       "  </tbody>\n",
       "</table>\n",
       "</div>"
      ],
      "text/plain": [
       "   Unnamed: 0.1        date      time                    name        username  \\\n",
       "0             0  2022-05-10  01:56:33  Nicholas Lamar Soutter     nicksoutter   \n",
       "1             1  2022-05-10  01:44:44         mys. sylverfyre  sylverfyrevalk   \n",
       "2             2  2022-05-10  01:39:21    ✿ artsy black girl ✿   fairyflossfro   \n",
       "3             3  2022-05-10  01:10:12                     Sue     sue21222633   \n",
       "4             4  2022-05-10  01:10:06       Lady Jasmine, HRH       hrh_ladyj   \n",
       "\n",
       "    state                                              tweet  \n",
       "0  Boston  @PaleBlueMomma Well, murdering 21 year old rea...  \n",
       "1  Boston  @hbt_ft @jskilesskinner anti abortion ppl hara...  \n",
       "2  Boston  This analysis lazy best. Why wasting time disc...  \n",
       "3  Boston  @TomFitton Yes pass, I read it. It failed Febr...  \n",
       "4  Boston  @PressSec @POTUS Noted, addendum, They NOT phy...  "
      ]
     },
     "execution_count": 2,
     "metadata": {},
     "output_type": "execute_result"
    }
   ],
   "source": [
    "df = df.drop(['Unnamed: 0'], axis=1)\n",
    "df.head()"
   ]
  },
  {
   "cell_type": "code",
   "execution_count": 3,
   "id": "a7db51b6",
   "metadata": {},
   "outputs": [
    {
     "data": {
      "text/plain": [
       "(8882, 7)"
      ]
     },
     "execution_count": 3,
     "metadata": {},
     "output_type": "execute_result"
    }
   ],
   "source": [
    "df.shape"
   ]
  },
  {
   "cell_type": "code",
   "execution_count": 4,
   "id": "62d3fd38",
   "metadata": {},
   "outputs": [
    {
     "data": {
      "text/html": [
       "<div>\n",
       "<style scoped>\n",
       "    .dataframe tbody tr th:only-of-type {\n",
       "        vertical-align: middle;\n",
       "    }\n",
       "\n",
       "    .dataframe tbody tr th {\n",
       "        vertical-align: top;\n",
       "    }\n",
       "\n",
       "    .dataframe thead th {\n",
       "        text-align: right;\n",
       "    }\n",
       "</style>\n",
       "<table border=\"1\" class=\"dataframe\">\n",
       "  <thead>\n",
       "    <tr style=\"text-align: right;\">\n",
       "      <th></th>\n",
       "      <th>Unnamed: 0.1</th>\n",
       "      <th>name</th>\n",
       "      <th>username</th>\n",
       "      <th>state</th>\n",
       "      <th>tweet</th>\n",
       "      <th>datetime</th>\n",
       "    </tr>\n",
       "  </thead>\n",
       "  <tbody>\n",
       "    <tr>\n",
       "      <th>0</th>\n",
       "      <td>0</td>\n",
       "      <td>Nicholas Lamar Soutter</td>\n",
       "      <td>nicksoutter</td>\n",
       "      <td>Boston</td>\n",
       "      <td>@PaleBlueMomma Well, murdering 21 year old rea...</td>\n",
       "      <td>2022-05-10 01:56:33</td>\n",
       "    </tr>\n",
       "    <tr>\n",
       "      <th>1</th>\n",
       "      <td>1</td>\n",
       "      <td>mys. sylverfyre</td>\n",
       "      <td>sylverfyrevalk</td>\n",
       "      <td>Boston</td>\n",
       "      <td>@hbt_ft @jskilesskinner anti abortion ppl hara...</td>\n",
       "      <td>2022-05-10 01:44:44</td>\n",
       "    </tr>\n",
       "    <tr>\n",
       "      <th>2</th>\n",
       "      <td>2</td>\n",
       "      <td>✿ artsy black girl ✿</td>\n",
       "      <td>fairyflossfro</td>\n",
       "      <td>Boston</td>\n",
       "      <td>This analysis lazy best. Why wasting time disc...</td>\n",
       "      <td>2022-05-10 01:39:21</td>\n",
       "    </tr>\n",
       "    <tr>\n",
       "      <th>3</th>\n",
       "      <td>3</td>\n",
       "      <td>Sue</td>\n",
       "      <td>sue21222633</td>\n",
       "      <td>Boston</td>\n",
       "      <td>@TomFitton Yes pass, I read it. It failed Febr...</td>\n",
       "      <td>2022-05-10 01:10:12</td>\n",
       "    </tr>\n",
       "    <tr>\n",
       "      <th>4</th>\n",
       "      <td>4</td>\n",
       "      <td>Lady Jasmine, HRH</td>\n",
       "      <td>hrh_ladyj</td>\n",
       "      <td>Boston</td>\n",
       "      <td>@PressSec @POTUS Noted, addendum, They NOT phy...</td>\n",
       "      <td>2022-05-10 01:10:06</td>\n",
       "    </tr>\n",
       "  </tbody>\n",
       "</table>\n",
       "</div>"
      ],
      "text/plain": [
       "   Unnamed: 0.1                    name        username   state  \\\n",
       "0             0  Nicholas Lamar Soutter     nicksoutter  Boston   \n",
       "1             1         mys. sylverfyre  sylverfyrevalk  Boston   \n",
       "2             2    ✿ artsy black girl ✿   fairyflossfro  Boston   \n",
       "3             3                     Sue     sue21222633  Boston   \n",
       "4             4       Lady Jasmine, HRH       hrh_ladyj  Boston   \n",
       "\n",
       "                                               tweet             datetime  \n",
       "0  @PaleBlueMomma Well, murdering 21 year old rea...  2022-05-10 01:56:33  \n",
       "1  @hbt_ft @jskilesskinner anti abortion ppl hara...  2022-05-10 01:44:44  \n",
       "2  This analysis lazy best. Why wasting time disc...  2022-05-10 01:39:21  \n",
       "3  @TomFitton Yes pass, I read it. It failed Febr...  2022-05-10 01:10:12  \n",
       "4  @PressSec @POTUS Noted, addendum, They NOT phy...  2022-05-10 01:10:06  "
      ]
     },
     "execution_count": 4,
     "metadata": {},
     "output_type": "execute_result"
    }
   ],
   "source": [
    "df[\"datetime\"] = df['date']+\" \"+df['time']\n",
    "df = df.drop(['date','time'], axis=1)\n",
    "df.head()"
   ]
  },
  {
   "cell_type": "code",
   "execution_count": 5,
   "id": "a0510425",
   "metadata": {},
   "outputs": [
    {
     "data": {
      "text/plain": [
       "array(['Boston', 'Chicago', 'Dallas', 'Houston', 'Los Angeles', 'Miami',\n",
       "       'New York', 'Philadelphia', 'San Francisco', 'Washington D.C.'],\n",
       "      dtype=object)"
      ]
     },
     "execution_count": 5,
     "metadata": {},
     "output_type": "execute_result"
    }
   ],
   "source": [
    "df['state'].unique()"
   ]
  },
  {
   "cell_type": "markdown",
   "id": "2fdf0253",
   "metadata": {},
   "source": [
    "## Gensim"
   ]
  },
  {
   "cell_type": "code",
   "execution_count": 6,
   "id": "a96374ac",
   "metadata": {},
   "outputs": [],
   "source": [
    "import gensim"
   ]
  },
  {
   "cell_type": "code",
   "execution_count": 7,
   "id": "25c15da0",
   "metadata": {},
   "outputs": [
    {
     "data": {
      "text/plain": [
       "0       [palebluemomma, well, murdering, year, old, re...\n",
       "1       [hbt_ft, jskilesskinner, anti, abortion, ppl, ...\n",
       "2       [this, analysis, lazy, best, why, wasting, tim...\n",
       "3       [tomfitton, yes, pass, read, it, it, failed, f...\n",
       "4       [presssec, potus, noted, addendum, they, not, ...\n",
       "                              ...                        \n",
       "8877    [fyllo, aodespair, the, states, draconian, ant...\n",
       "8878    [clear_louden, ratmofficial, uterus, determine...\n",
       "8879    [senblumenthal, what, definition, woman, you, ...\n",
       "8880    [stowevt, billmaher, really, that, lot, eu, co...\n",
       "8881    [fanatical, abortion, protesters, go, full, le...\n",
       "Name: tweet, Length: 8882, dtype: object"
      ]
     },
     "execution_count": 7,
     "metadata": {},
     "output_type": "execute_result"
    }
   ],
   "source": [
    "tweets = df.tweet.apply(gensim.utils.simple_preprocess)\n",
    "tweets"
   ]
  },
  {
   "cell_type": "code",
   "execution_count": 8,
   "id": "f8e92faa",
   "metadata": {},
   "outputs": [],
   "source": [
    "#initialize gensim model\n",
    "model = gensim.models.Word2Vec(\n",
    "    window=10,\n",
    "    min_count=5,\n",
    "    workers=4,\n",
    ")"
   ]
  },
  {
   "cell_type": "code",
   "execution_count": 9,
   "id": "14b79250",
   "metadata": {},
   "outputs": [
    {
     "data": {
      "text/plain": [
       "(644881, 875770)"
      ]
     },
     "execution_count": 9,
     "metadata": {},
     "output_type": "execute_result"
    }
   ],
   "source": [
    "#build vocabulary\n",
    "model.build_vocab(tweets, progress_per=1000)\n",
    "#train word2vec\n",
    "model.train(tweets, total_examples=model.corpus_count, epochs=model.epochs)"
   ]
  },
  {
   "cell_type": "code",
   "execution_count": 10,
   "id": "a5fe4622",
   "metadata": {},
   "outputs": [],
   "source": [
    "#saving the model\n",
    "model.wv.save_word2vec_format('word2vec-roevwade-10-cities.txt', binary=False)"
   ]
  },
  {
   "cell_type": "markdown",
   "id": "cb4e561c",
   "metadata": {},
   "source": [
    "**Experimenting with the model**"
   ]
  },
  {
   "cell_type": "code",
   "execution_count": 11,
   "id": "34879a9d",
   "metadata": {},
   "outputs": [
    {
     "data": {
      "text/plain": [
       "[('in', 0.9903263449668884),\n",
       " ('attack', 0.9901604056358337),\n",
       " ('protesters', 0.9901257753372192),\n",
       " ('created', 0.9897302985191345),\n",
       " ('push', 0.9897077679634094),\n",
       " ('supporters', 0.9895628690719604),\n",
       " ('house', 0.9892563819885254),\n",
       " ('th', 0.9892551302909851),\n",
       " ('tuesday', 0.9891059398651123),\n",
       " ('democratic', 0.9889997839927673)]"
      ]
     },
     "execution_count": 11,
     "metadata": {},
     "output_type": "execute_result"
    }
   ],
   "source": [
    "model.wv.most_similar(\"abortion\")"
   ]
  },
  {
   "cell_type": "code",
   "execution_count": 12,
   "id": "503a672a",
   "metadata": {},
   "outputs": [
    {
     "data": {
      "text/plain": [
       "[('universal', 0.9955496788024902),\n",
       " ('innocent', 0.9951094388961792),\n",
       " ('amp', 0.9936622381210327),\n",
       " ('quality', 0.9935098886489868),\n",
       " ('termination', 0.9931392669677734),\n",
       " ('plain', 0.9931087493896484),\n",
       " ('full', 0.992415189743042),\n",
       " ('happens', 0.9923977851867676),\n",
       " ('prenatal', 0.9923285841941833),\n",
       " ('risk', 0.9922488927841187)]"
      ]
     },
     "execution_count": 12,
     "metadata": {},
     "output_type": "execute_result"
    }
   ],
   "source": [
    "model.wv.most_similar(\"healthcare\")"
   ]
  },
  {
   "cell_type": "code",
   "execution_count": 13,
   "id": "1fba8ba5",
   "metadata": {},
   "outputs": [
    {
     "data": {
      "text/plain": [
       "0.9088408"
      ]
     },
     "execution_count": 13,
     "metadata": {},
     "output_type": "execute_result"
    }
   ],
   "source": [
    "model.wv.similarity(w1=\"abortion\", w2=\"healthcare\")"
   ]
  },
  {
   "cell_type": "code",
   "execution_count": 14,
   "id": "b74fce95",
   "metadata": {},
   "outputs": [
    {
     "data": {
      "text/plain": [
       "0.74523634"
      ]
     },
     "execution_count": 14,
     "metadata": {},
     "output_type": "execute_result"
    }
   ],
   "source": [
    "model.wv.similarity(w1=\"abortion\", w2=\"murder\")"
   ]
  },
  {
   "cell_type": "code",
   "execution_count": 15,
   "id": "584e6da0",
   "metadata": {},
   "outputs": [
    {
     "data": {
      "text/plain": [
       "0.9977023"
      ]
     },
     "execution_count": 15,
     "metadata": {},
     "output_type": "execute_result"
    }
   ],
   "source": [
    "model.wv.similarity(w1=\"abortionrights\", w2=\"amazon\")"
   ]
  },
  {
   "cell_type": "code",
   "execution_count": null,
   "id": "f413bdbf",
   "metadata": {},
   "outputs": [],
   "source": []
  }
 ],
 "metadata": {
  "kernelspec": {
   "display_name": "Python 3 (ipykernel)",
   "language": "python",
   "name": "python3"
  },
  "language_info": {
   "codemirror_mode": {
    "name": "ipython",
    "version": 3
   },
   "file_extension": ".py",
   "mimetype": "text/x-python",
   "name": "python",
   "nbconvert_exporter": "python",
   "pygments_lexer": "ipython3",
   "version": "3.9.6"
  }
 },
 "nbformat": 4,
 "nbformat_minor": 5
}
