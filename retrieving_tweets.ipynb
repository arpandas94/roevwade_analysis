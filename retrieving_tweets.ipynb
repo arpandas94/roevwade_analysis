{
 "cells": [
  {
   "cell_type": "code",
   "execution_count": 1,
   "id": "4fb7353d",
   "metadata": {},
   "outputs": [],
   "source": [
    "import twint\n",
    "import pandas as pd\n",
    "import nest_asyncio\n",
    "nest_asyncio.apply()"
   ]
  },
  {
   "cell_type": "code",
   "execution_count": 18,
   "id": "4d6947c4",
   "metadata": {},
   "outputs": [
    {
     "name": "stdout",
     "output_type": "stream",
     "text": [
      "San Francisco\n",
      "[+] Finished: Successfully collected 918 Tweets.\n",
      "Washington D.C.\n",
      "[+] Finished: Successfully collected 913 Tweets.\n"
     ]
    }
   ],
   "source": [
    "all_cities = [\"New York\",\"Chicago\",\"Washington D.C.\",\"Boston\",\"Los Angeles\",\"San Francisco\",\"Houston\",\"Dallas\",\"Philadelphia\",\"Miami\"]\n",
    "def scrape_by_city(keywords, since, outfile):\n",
    "    unique_cities=set(all_cities) #To get unique cities of country\n",
    "    cities = sorted(unique_cities) #Sort & convert datatype to list\n",
    "    for city in cities:\n",
    "        print(city)\n",
    "        c = twint.Config()\n",
    "        c.Search = keywords #search keyword\n",
    "        c.Since = since\n",
    "        c.Limit = 900\n",
    "        c.Store_csv = True\n",
    "        c.Output = \"./\" + outfile\n",
    "        c.Near = city\n",
    "        c.Hide_output = True\n",
    "        c.Count = True\n",
    "        c.Stats = True\n",
    "        c.Resume = 'resume.txt'\n",
    "        twint.run.Search(c)\n",
    "\n",
    "scrape_by_city('abortion', '2022-05-03 00:00:00', 'roevwade_tweets_washington.csv')"
   ]
  },
  {
   "cell_type": "code",
   "execution_count": 19,
   "id": "591eb711",
   "metadata": {},
   "outputs": [
    {
     "data": {
      "text/html": [
       "<div>\n",
       "<style scoped>\n",
       "    .dataframe tbody tr th:only-of-type {\n",
       "        vertical-align: middle;\n",
       "    }\n",
       "\n",
       "    .dataframe tbody tr th {\n",
       "        vertical-align: top;\n",
       "    }\n",
       "\n",
       "    .dataframe thead th {\n",
       "        text-align: right;\n",
       "    }\n",
       "</style>\n",
       "<table border=\"1\" class=\"dataframe\">\n",
       "  <thead>\n",
       "    <tr style=\"text-align: right;\">\n",
       "      <th></th>\n",
       "      <th>id</th>\n",
       "      <th>conversation_id</th>\n",
       "      <th>created_at</th>\n",
       "      <th>date</th>\n",
       "      <th>time</th>\n",
       "      <th>timezone</th>\n",
       "      <th>user_id</th>\n",
       "      <th>username</th>\n",
       "      <th>name</th>\n",
       "      <th>place</th>\n",
       "      <th>...</th>\n",
       "      <th>geo</th>\n",
       "      <th>source</th>\n",
       "      <th>user_rt_id</th>\n",
       "      <th>user_rt</th>\n",
       "      <th>retweet_id</th>\n",
       "      <th>reply_to</th>\n",
       "      <th>retweet_date</th>\n",
       "      <th>translate</th>\n",
       "      <th>trans_src</th>\n",
       "      <th>trans_dest</th>\n",
       "    </tr>\n",
       "  </thead>\n",
       "  <tbody>\n",
       "    <tr>\n",
       "      <th>0</th>\n",
       "      <td>1523904809388154880</td>\n",
       "      <td>1523791590485270529</td>\n",
       "      <td>2022-05-10 01:56:33 Eastern Daylight Time</td>\n",
       "      <td>2022-05-10</td>\n",
       "      <td>01:56:33</td>\n",
       "      <td>-400</td>\n",
       "      <td>809222040280592384</td>\n",
       "      <td>nicksoutter</td>\n",
       "      <td>Nicholas Lamar Soutter</td>\n",
       "      <td>NaN</td>\n",
       "      <td>...</td>\n",
       "      <td>NaN</td>\n",
       "      <td>NaN</td>\n",
       "      <td>NaN</td>\n",
       "      <td>NaN</td>\n",
       "      <td>NaN</td>\n",
       "      <td>[{'screen_name': 'PaleBlueMomma', 'name': 'Pal...</td>\n",
       "      <td>NaN</td>\n",
       "      <td>NaN</td>\n",
       "      <td>NaN</td>\n",
       "      <td>NaN</td>\n",
       "    </tr>\n",
       "    <tr>\n",
       "      <th>1</th>\n",
       "      <td>1523901833592381443</td>\n",
       "      <td>1523474849662144517</td>\n",
       "      <td>2022-05-10 01:44:44 Eastern Daylight Time</td>\n",
       "      <td>2022-05-10</td>\n",
       "      <td>01:44:44</td>\n",
       "      <td>-400</td>\n",
       "      <td>242982122</td>\n",
       "      <td>sylverfyrevalk</td>\n",
       "      <td>mys. sylverfyre</td>\n",
       "      <td>NaN</td>\n",
       "      <td>...</td>\n",
       "      <td>NaN</td>\n",
       "      <td>NaN</td>\n",
       "      <td>NaN</td>\n",
       "      <td>NaN</td>\n",
       "      <td>NaN</td>\n",
       "      <td>[{'screen_name': 'hbt_ft', 'name': 'Trying not...</td>\n",
       "      <td>NaN</td>\n",
       "      <td>NaN</td>\n",
       "      <td>NaN</td>\n",
       "      <td>NaN</td>\n",
       "    </tr>\n",
       "    <tr>\n",
       "      <th>2</th>\n",
       "      <td>1523900479696158720</td>\n",
       "      <td>1523900479696158720</td>\n",
       "      <td>2022-05-10 01:39:21 Eastern Daylight Time</td>\n",
       "      <td>2022-05-10</td>\n",
       "      <td>01:39:21</td>\n",
       "      <td>-400</td>\n",
       "      <td>27744454</td>\n",
       "      <td>fairyflossfro</td>\n",
       "      <td>✿ artsy black girl ✿</td>\n",
       "      <td>NaN</td>\n",
       "      <td>...</td>\n",
       "      <td>NaN</td>\n",
       "      <td>NaN</td>\n",
       "      <td>NaN</td>\n",
       "      <td>NaN</td>\n",
       "      <td>NaN</td>\n",
       "      <td>[]</td>\n",
       "      <td>NaN</td>\n",
       "      <td>NaN</td>\n",
       "      <td>NaN</td>\n",
       "      <td>NaN</td>\n",
       "    </tr>\n",
       "  </tbody>\n",
       "</table>\n",
       "<p>3 rows × 36 columns</p>\n",
       "</div>"
      ],
      "text/plain": [
       "                    id      conversation_id  \\\n",
       "0  1523904809388154880  1523791590485270529   \n",
       "1  1523901833592381443  1523474849662144517   \n",
       "2  1523900479696158720  1523900479696158720   \n",
       "\n",
       "                                  created_at        date      time  timezone  \\\n",
       "0  2022-05-10 01:56:33 Eastern Daylight Time  2022-05-10  01:56:33      -400   \n",
       "1  2022-05-10 01:44:44 Eastern Daylight Time  2022-05-10  01:44:44      -400   \n",
       "2  2022-05-10 01:39:21 Eastern Daylight Time  2022-05-10  01:39:21      -400   \n",
       "\n",
       "              user_id        username                    name place  ... geo  \\\n",
       "0  809222040280592384     nicksoutter  Nicholas Lamar Soutter   NaN  ... NaN   \n",
       "1           242982122  sylverfyrevalk         mys. sylverfyre   NaN  ... NaN   \n",
       "2            27744454   fairyflossfro    ✿ artsy black girl ✿   NaN  ... NaN   \n",
       "\n",
       "  source user_rt_id user_rt retweet_id  \\\n",
       "0    NaN        NaN     NaN        NaN   \n",
       "1    NaN        NaN     NaN        NaN   \n",
       "2    NaN        NaN     NaN        NaN   \n",
       "\n",
       "                                            reply_to  retweet_date  translate  \\\n",
       "0  [{'screen_name': 'PaleBlueMomma', 'name': 'Pal...           NaN        NaN   \n",
       "1  [{'screen_name': 'hbt_ft', 'name': 'Trying not...           NaN        NaN   \n",
       "2                                                 []           NaN        NaN   \n",
       "\n",
       "  trans_src trans_dest  \n",
       "0       NaN        NaN  \n",
       "1       NaN        NaN  \n",
       "2       NaN        NaN  \n",
       "\n",
       "[3 rows x 36 columns]"
      ]
     },
     "execution_count": 19,
     "metadata": {},
     "output_type": "execute_result"
    }
   ],
   "source": [
    "import pandas as pd\n",
    "import numpy as np\n",
    "\n",
    "df = pd.read_csv('roevwade_tweets_10_cities.csv')\n",
    "df2 = pd.read_csv('roevwade_tweets_washington_sanfran.csv')\n",
    "df.head(3)"
   ]
  },
  {
   "cell_type": "code",
   "execution_count": 20,
   "id": "44bf5167",
   "metadata": {},
   "outputs": [
    {
     "data": {
      "text/plain": [
       "Index(['id', 'conversation_id', 'created_at', 'date', 'time', 'timezone',\n",
       "       'user_id', 'username', 'name', 'place', 'tweet', 'language', 'mentions',\n",
       "       'urls', 'photos', 'replies_count', 'retweets_count', 'likes_count',\n",
       "       'hashtags', 'cashtags', 'link', 'retweet', 'quote_url', 'video',\n",
       "       'thumbnail', 'near', 'geo', 'source', 'user_rt_id', 'user_rt',\n",
       "       'retweet_id', 'reply_to', 'retweet_date', 'translate', 'trans_src',\n",
       "       'trans_dest'],\n",
       "      dtype='object')"
      ]
     },
     "execution_count": 20,
     "metadata": {},
     "output_type": "execute_result"
    }
   ],
   "source": [
    "df.columns"
   ]
  },
  {
   "cell_type": "code",
   "execution_count": 21,
   "id": "b95134a4",
   "metadata": {
    "scrolled": true
   },
   "outputs": [
    {
     "data": {
      "text/plain": [
       "array(['Boston', 'Chicago', 'Dallas', 'Houston', 'Los Angeles', 'Miami',\n",
       "       'New York', 'Philadelphia'], dtype=object)"
      ]
     },
     "execution_count": 21,
     "metadata": {},
     "output_type": "execute_result"
    }
   ],
   "source": [
    "df['near'].unique()"
   ]
  },
  {
   "cell_type": "code",
   "execution_count": 22,
   "id": "0c50a6c9",
   "metadata": {},
   "outputs": [
    {
     "data": {
      "text/plain": [
       "array(['San Francisco', 'Washington D.C.'], dtype=object)"
      ]
     },
     "execution_count": 22,
     "metadata": {},
     "output_type": "execute_result"
    }
   ],
   "source": [
    "df2['near'].unique()"
   ]
  },
  {
   "cell_type": "code",
   "execution_count": 23,
   "id": "9315bc96",
   "metadata": {},
   "outputs": [
    {
     "data": {
      "text/plain": [
       "(8882, 36)"
      ]
     },
     "execution_count": 23,
     "metadata": {},
     "output_type": "execute_result"
    }
   ],
   "source": [
    "frames = [df, df2]\n",
    "\n",
    "final_dataset = pd.concat(frames)\n",
    "final_dataset.shape"
   ]
  },
  {
   "cell_type": "code",
   "execution_count": 24,
   "id": "a7b7af95",
   "metadata": {},
   "outputs": [
    {
     "data": {
      "text/plain": [
       "array(['Boston', 'Chicago', 'Dallas', 'Houston', 'Los Angeles', 'Miami',\n",
       "       'New York', 'Philadelphia', 'San Francisco', 'Washington D.C.'],\n",
       "      dtype=object)"
      ]
     },
     "execution_count": 24,
     "metadata": {},
     "output_type": "execute_result"
    }
   ],
   "source": [
    "final_dataset['near'].unique()"
   ]
  },
  {
   "cell_type": "code",
   "execution_count": 27,
   "id": "22d946ef",
   "metadata": {},
   "outputs": [],
   "source": [
    "final_dataset.to_csv('roevwade_top10cities_900tweets.csv')"
   ]
  },
  {
   "cell_type": "code",
   "execution_count": null,
   "id": "83dfd1f1",
   "metadata": {},
   "outputs": [],
   "source": []
  }
 ],
 "metadata": {
  "kernelspec": {
   "display_name": "Python 3 (ipykernel)",
   "language": "python",
   "name": "python3"
  },
  "language_info": {
   "codemirror_mode": {
    "name": "ipython",
    "version": 3
   },
   "file_extension": ".py",
   "mimetype": "text/x-python",
   "name": "python",
   "nbconvert_exporter": "python",
   "pygments_lexer": "ipython3",
   "version": "3.9.6"
  }
 },
 "nbformat": 4,
 "nbformat_minor": 5
}
