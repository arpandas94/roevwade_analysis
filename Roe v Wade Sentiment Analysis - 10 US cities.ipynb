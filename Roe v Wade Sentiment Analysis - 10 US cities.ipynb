{
 "cells": [
  {
   "cell_type": "code",
   "execution_count": 1,
   "id": "7db528c3",
   "metadata": {},
   "outputs": [
    {
     "data": {
      "text/html": [
       "<div>\n",
       "<style scoped>\n",
       "    .dataframe tbody tr th:only-of-type {\n",
       "        vertical-align: middle;\n",
       "    }\n",
       "\n",
       "    .dataframe tbody tr th {\n",
       "        vertical-align: top;\n",
       "    }\n",
       "\n",
       "    .dataframe thead th {\n",
       "        text-align: right;\n",
       "    }\n",
       "</style>\n",
       "<table border=\"1\" class=\"dataframe\">\n",
       "  <thead>\n",
       "    <tr style=\"text-align: right;\">\n",
       "      <th></th>\n",
       "      <th>Unnamed: 0</th>\n",
       "      <th>id</th>\n",
       "      <th>conversation_id</th>\n",
       "      <th>created_at</th>\n",
       "      <th>date</th>\n",
       "      <th>time</th>\n",
       "      <th>timezone</th>\n",
       "      <th>user_id</th>\n",
       "      <th>username</th>\n",
       "      <th>name</th>\n",
       "      <th>...</th>\n",
       "      <th>geo</th>\n",
       "      <th>source</th>\n",
       "      <th>user_rt_id</th>\n",
       "      <th>user_rt</th>\n",
       "      <th>retweet_id</th>\n",
       "      <th>reply_to</th>\n",
       "      <th>retweet_date</th>\n",
       "      <th>translate</th>\n",
       "      <th>trans_src</th>\n",
       "      <th>trans_dest</th>\n",
       "    </tr>\n",
       "  </thead>\n",
       "  <tbody>\n",
       "    <tr>\n",
       "      <th>0</th>\n",
       "      <td>0</td>\n",
       "      <td>1523904809388154880</td>\n",
       "      <td>1523791590485270529</td>\n",
       "      <td>2022-05-10 01:56:33 Eastern Daylight Time</td>\n",
       "      <td>2022-05-10</td>\n",
       "      <td>01:56:33</td>\n",
       "      <td>-400</td>\n",
       "      <td>809222040280592384</td>\n",
       "      <td>nicksoutter</td>\n",
       "      <td>Nicholas Lamar Soutter</td>\n",
       "      <td>...</td>\n",
       "      <td>NaN</td>\n",
       "      <td>NaN</td>\n",
       "      <td>NaN</td>\n",
       "      <td>NaN</td>\n",
       "      <td>NaN</td>\n",
       "      <td>[{'screen_name': 'PaleBlueMomma', 'name': 'Pal...</td>\n",
       "      <td>NaN</td>\n",
       "      <td>NaN</td>\n",
       "      <td>NaN</td>\n",
       "      <td>NaN</td>\n",
       "    </tr>\n",
       "    <tr>\n",
       "      <th>1</th>\n",
       "      <td>1</td>\n",
       "      <td>1523901833592381443</td>\n",
       "      <td>1523474849662144517</td>\n",
       "      <td>2022-05-10 01:44:44 Eastern Daylight Time</td>\n",
       "      <td>2022-05-10</td>\n",
       "      <td>01:44:44</td>\n",
       "      <td>-400</td>\n",
       "      <td>242982122</td>\n",
       "      <td>sylverfyrevalk</td>\n",
       "      <td>mys. sylverfyre</td>\n",
       "      <td>...</td>\n",
       "      <td>NaN</td>\n",
       "      <td>NaN</td>\n",
       "      <td>NaN</td>\n",
       "      <td>NaN</td>\n",
       "      <td>NaN</td>\n",
       "      <td>[{'screen_name': 'hbt_ft', 'name': 'Trying not...</td>\n",
       "      <td>NaN</td>\n",
       "      <td>NaN</td>\n",
       "      <td>NaN</td>\n",
       "      <td>NaN</td>\n",
       "    </tr>\n",
       "    <tr>\n",
       "      <th>2</th>\n",
       "      <td>2</td>\n",
       "      <td>1523900479696158720</td>\n",
       "      <td>1523900479696158720</td>\n",
       "      <td>2022-05-10 01:39:21 Eastern Daylight Time</td>\n",
       "      <td>2022-05-10</td>\n",
       "      <td>01:39:21</td>\n",
       "      <td>-400</td>\n",
       "      <td>27744454</td>\n",
       "      <td>fairyflossfro</td>\n",
       "      <td>✿ artsy black girl ✿</td>\n",
       "      <td>...</td>\n",
       "      <td>NaN</td>\n",
       "      <td>NaN</td>\n",
       "      <td>NaN</td>\n",
       "      <td>NaN</td>\n",
       "      <td>NaN</td>\n",
       "      <td>[]</td>\n",
       "      <td>NaN</td>\n",
       "      <td>NaN</td>\n",
       "      <td>NaN</td>\n",
       "      <td>NaN</td>\n",
       "    </tr>\n",
       "  </tbody>\n",
       "</table>\n",
       "<p>3 rows × 37 columns</p>\n",
       "</div>"
      ],
      "text/plain": [
       "   Unnamed: 0                   id      conversation_id  \\\n",
       "0           0  1523904809388154880  1523791590485270529   \n",
       "1           1  1523901833592381443  1523474849662144517   \n",
       "2           2  1523900479696158720  1523900479696158720   \n",
       "\n",
       "                                  created_at        date      time  timezone  \\\n",
       "0  2022-05-10 01:56:33 Eastern Daylight Time  2022-05-10  01:56:33      -400   \n",
       "1  2022-05-10 01:44:44 Eastern Daylight Time  2022-05-10  01:44:44      -400   \n",
       "2  2022-05-10 01:39:21 Eastern Daylight Time  2022-05-10  01:39:21      -400   \n",
       "\n",
       "              user_id        username                    name  ... geo source  \\\n",
       "0  809222040280592384     nicksoutter  Nicholas Lamar Soutter  ... NaN    NaN   \n",
       "1           242982122  sylverfyrevalk         mys. sylverfyre  ... NaN    NaN   \n",
       "2            27744454   fairyflossfro    ✿ artsy black girl ✿  ... NaN    NaN   \n",
       "\n",
       "  user_rt_id user_rt retweet_id  \\\n",
       "0        NaN     NaN        NaN   \n",
       "1        NaN     NaN        NaN   \n",
       "2        NaN     NaN        NaN   \n",
       "\n",
       "                                            reply_to  retweet_date  translate  \\\n",
       "0  [{'screen_name': 'PaleBlueMomma', 'name': 'Pal...           NaN        NaN   \n",
       "1  [{'screen_name': 'hbt_ft', 'name': 'Trying not...           NaN        NaN   \n",
       "2                                                 []           NaN        NaN   \n",
       "\n",
       "   trans_src trans_dest  \n",
       "0        NaN        NaN  \n",
       "1        NaN        NaN  \n",
       "2        NaN        NaN  \n",
       "\n",
       "[3 rows x 37 columns]"
      ]
     },
     "execution_count": 1,
     "metadata": {},
     "output_type": "execute_result"
    }
   ],
   "source": [
    "import pandas as pd\n",
    "import numpy as np\n",
    "\n",
    "df = pd.read_csv('roevwade_top10cities_900tweets.csv')\n",
    "df.head(3)"
   ]
  },
  {
   "cell_type": "code",
   "execution_count": 2,
   "id": "671444b7",
   "metadata": {},
   "outputs": [
    {
     "data": {
      "text/plain": [
       "(8882, 37)"
      ]
     },
     "execution_count": 2,
     "metadata": {},
     "output_type": "execute_result"
    }
   ],
   "source": [
    "df.shape"
   ]
  },
  {
   "cell_type": "code",
   "execution_count": 3,
   "id": "e6edd9a9",
   "metadata": {},
   "outputs": [
    {
     "data": {
      "text/plain": [
       "Index(['Unnamed: 0', 'id', 'conversation_id', 'created_at', 'date', 'time',\n",
       "       'timezone', 'user_id', 'username', 'name', 'place', 'tweet', 'language',\n",
       "       'mentions', 'urls', 'photos', 'replies_count', 'retweets_count',\n",
       "       'likes_count', 'hashtags', 'cashtags', 'link', 'retweet', 'quote_url',\n",
       "       'video', 'thumbnail', 'near', 'geo', 'source', 'user_rt_id', 'user_rt',\n",
       "       'retweet_id', 'reply_to', 'retweet_date', 'translate', 'trans_src',\n",
       "       'trans_dest'],\n",
       "      dtype='object')"
      ]
     },
     "execution_count": 3,
     "metadata": {},
     "output_type": "execute_result"
    }
   ],
   "source": [
    "df.columns"
   ]
  },
  {
   "cell_type": "code",
   "execution_count": 6,
   "id": "4dd93262",
   "metadata": {},
   "outputs": [],
   "source": [
    "df.to_csv('roevwade_top10cities_900tweets_cleaned.csv')"
   ]
  },
  {
   "cell_type": "markdown",
   "id": "d8d8489e",
   "metadata": {},
   "source": [
    "--------------------------------------------------------------------"
   ]
  },
  {
   "cell_type": "code",
   "execution_count": 5,
   "id": "58f4aeac",
   "metadata": {},
   "outputs": [
    {
     "data": {
      "text/html": [
       "<div>\n",
       "<style scoped>\n",
       "    .dataframe tbody tr th:only-of-type {\n",
       "        vertical-align: middle;\n",
       "    }\n",
       "\n",
       "    .dataframe tbody tr th {\n",
       "        vertical-align: top;\n",
       "    }\n",
       "\n",
       "    .dataframe thead th {\n",
       "        text-align: right;\n",
       "    }\n",
       "</style>\n",
       "<table border=\"1\" class=\"dataframe\">\n",
       "  <thead>\n",
       "    <tr style=\"text-align: right;\">\n",
       "      <th></th>\n",
       "      <th>Unnamed: 0</th>\n",
       "      <th>date</th>\n",
       "      <th>time</th>\n",
       "      <th>name</th>\n",
       "      <th>username</th>\n",
       "      <th>state</th>\n",
       "      <th>tweet</th>\n",
       "    </tr>\n",
       "  </thead>\n",
       "  <tbody>\n",
       "    <tr>\n",
       "      <th>0</th>\n",
       "      <td>0</td>\n",
       "      <td>2022-05-10</td>\n",
       "      <td>01:56:33</td>\n",
       "      <td>Nicholas Lamar Soutter</td>\n",
       "      <td>nicksoutter</td>\n",
       "      <td>Boston</td>\n",
       "      <td>@PaleBlueMomma Well, murdering a 21 year old r...</td>\n",
       "    </tr>\n",
       "    <tr>\n",
       "      <th>1</th>\n",
       "      <td>1</td>\n",
       "      <td>2022-05-10</td>\n",
       "      <td>01:44:44</td>\n",
       "      <td>mys. sylverfyre</td>\n",
       "      <td>sylverfyrevalk</td>\n",
       "      <td>Boston</td>\n",
       "      <td>@hbt_ft @jskilesskinner anti abortion ppl hara...</td>\n",
       "    </tr>\n",
       "    <tr>\n",
       "      <th>2</th>\n",
       "      <td>2</td>\n",
       "      <td>2022-05-10</td>\n",
       "      <td>01:39:21</td>\n",
       "      <td>✿ artsy black girl ✿</td>\n",
       "      <td>fairyflossfro</td>\n",
       "      <td>Boston</td>\n",
       "      <td>This analysis is lazy at best. Why are we wast...</td>\n",
       "    </tr>\n",
       "  </tbody>\n",
       "</table>\n",
       "</div>"
      ],
      "text/plain": [
       "   Unnamed: 0        date      time                    name        username  \\\n",
       "0           0  2022-05-10  01:56:33  Nicholas Lamar Soutter     nicksoutter   \n",
       "1           1  2022-05-10  01:44:44         mys. sylverfyre  sylverfyrevalk   \n",
       "2           2  2022-05-10  01:39:21    ✿ artsy black girl ✿   fairyflossfro   \n",
       "\n",
       "    state                                              tweet  \n",
       "0  Boston  @PaleBlueMomma Well, murdering a 21 year old r...  \n",
       "1  Boston  @hbt_ft @jskilesskinner anti abortion ppl hara...  \n",
       "2  Boston  This analysis is lazy at best. Why are we wast...  "
      ]
     },
     "execution_count": 5,
     "metadata": {},
     "output_type": "execute_result"
    }
   ],
   "source": [
    "import pandas as pd\n",
    "import numpy as np\n",
    "\n",
    "df = pd.read_csv('roevwade_top10cities_900tweets_cleaned.csv')\n",
    "df.head(3)"
   ]
  },
  {
   "cell_type": "code",
   "execution_count": 6,
   "id": "9c9782bc",
   "metadata": {},
   "outputs": [
    {
     "name": "stdout",
     "output_type": "stream",
     "text": [
      "['i', 'me', 'my', 'myself', 'we', 'our', 'ours', 'ourselves', 'you', \"you're\", \"you've\", \"you'll\", \"you'd\", 'your', 'yours', 'yourself', 'yourselves', 'he', 'him', 'his', 'himself', 'she', \"she's\", 'her', 'hers', 'herself', 'it', \"it's\", 'its', 'itself', 'they', 'them', 'their', 'theirs', 'themselves', 'what', 'which', 'who', 'whom', 'this', 'that', \"that'll\", 'these', 'those', 'am', 'is', 'are', 'was', 'were', 'be', 'been', 'being', 'have', 'has', 'had', 'having', 'do', 'does', 'did', 'doing', 'a', 'an', 'the', 'and', 'but', 'if', 'or', 'because', 'as', 'until', 'while', 'of', 'at', 'by', 'for', 'with', 'about', 'against', 'between', 'into', 'through', 'during', 'before', 'after', 'above', 'below', 'to', 'from', 'up', 'down', 'in', 'out', 'on', 'off', 'over', 'under', 'again', 'further', 'then', 'once', 'here', 'there', 'when', 'where', 'why', 'how', 'all', 'any', 'both', 'each', 'few', 'more', 'most', 'other', 'some', 'such', 'no', 'nor', 'not', 'only', 'own', 'same', 'so', 'than', 'too', 'very', 's', 't', 'can', 'will', 'just', 'don', \"don't\", 'should', \"should've\", 'now', 'd', 'll', 'm', 'o', 're', 've', 'y', 'ain', 'aren', \"aren't\", 'couldn', \"couldn't\", 'didn', \"didn't\", 'doesn', \"doesn't\", 'hadn', \"hadn't\", 'hasn', \"hasn't\", 'haven', \"haven't\", 'isn', \"isn't\", 'ma', 'mightn', \"mightn't\", 'mustn', \"mustn't\", 'needn', \"needn't\", 'shan', \"shan't\", 'shouldn', \"shouldn't\", 'wasn', \"wasn't\", 'weren', \"weren't\", 'won', \"won't\", 'wouldn', \"wouldn't\"]\n"
     ]
    }
   ],
   "source": [
    "import nltk\n",
    "from nltk.corpus import stopwords\n",
    "print(stopwords.words('english'))"
   ]
  },
  {
   "cell_type": "code",
   "execution_count": 7,
   "id": "e6b1ad04",
   "metadata": {},
   "outputs": [
    {
     "name": "stdout",
     "output_type": "stream",
     "text": [
      "@PaleBlueMomma Well, murdering a 21 year old really is committing an abortion... in the 66th trimester.\n",
      "---\n",
      "@PaleBlueMomma Well, murdering 21 year old really committing abortion... 66th trimester.\n"
     ]
    }
   ],
   "source": [
    "stop_words = set(stopwords.words('english'))\n",
    "print(df['tweet'][0])\n",
    "df['tweet'] = df['tweet'].apply(lambda x: ' '.join([word for word in x.split() if word not in (stop_words)]))\n",
    "print(\"---\")\n",
    "print(df['tweet'][0])"
   ]
  },
  {
   "cell_type": "code",
   "execution_count": 8,
   "id": "5fc1e157",
   "metadata": {},
   "outputs": [],
   "source": [
    "df.to_csv('roevwade_top10cities_900tweets_cleaned.csv')"
   ]
  },
  {
   "cell_type": "code",
   "execution_count": null,
   "id": "36283180",
   "metadata": {},
   "outputs": [],
   "source": []
  }
 ],
 "metadata": {
  "kernelspec": {
   "display_name": "Python 3 (ipykernel)",
   "language": "python",
   "name": "python3"
  },
  "language_info": {
   "codemirror_mode": {
    "name": "ipython",
    "version": 3
   },
   "file_extension": ".py",
   "mimetype": "text/x-python",
   "name": "python",
   "nbconvert_exporter": "python",
   "pygments_lexer": "ipython3",
   "version": "3.9.6"
  }
 },
 "nbformat": 4,
 "nbformat_minor": 5
}
